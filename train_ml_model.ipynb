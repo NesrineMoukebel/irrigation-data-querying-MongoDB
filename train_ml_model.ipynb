{
 "cells": [
  {
   "cell_type": "code",
   "execution_count": 4,
   "metadata": {},
   "outputs": [
    {
     "name": "stdout",
     "output_type": "stream",
     "text": [
      "Accuracy with cross validation: 0.95 ± 0.03\n"
     ]
    }
   ],
   "source": [
    "import pandas as pd\n",
    "from pymongo import MongoClient\n",
    "from sklearn.model_selection import train_test_split\n",
    "from sklearn.ensemble import RandomForestClassifier\n",
    "from sklearn.metrics import accuracy_score\n",
    "from sklearn.model_selection import cross_val_score\n",
    "\n",
    "# Connexion à MongoDB\n",
    "client = MongoClient('localhost', 27017)\n",
    "db = client['agriculture']\n",
    "collection = db['irrigation_data']\n",
    "\n",
    "# Charger les données de MongoDB dans un DataFrame pandas\n",
    "data = pd.DataFrame(list(collection.find()))\n",
    "\n",
    "# Supprimer l'ID MongoDB car il ne sera pas utilisé\n",
    "data.drop('_id', axis=1, inplace=True)\n",
    "\n",
    "# Pré-traiter les données\n",
    "data = data.dropna()\n",
    "data = pd.get_dummies(data)\n",
    "\n",
    "# Séparer les caractéristiques (features) de la cible (target)\n",
    "X = data.drop('Irrigation(Y/N)', axis=1)\n",
    "y = data['Irrigation(Y/N)']\n",
    "\n",
    "# Validation croisée pour évaluer le modèle\n",
    "# `random_state` est un paramètre utilisé pour assurer la reproductibilité des résultats en fixant \n",
    "# la graine du générateur de nombres aléatoires dans les algorithmes de machine learning.\n",
    "model = RandomForestClassifier(n_estimators=100, random_state=42)\n",
    "scores = cross_val_score(model, X, y, cv=5)\n",
    "\n",
    "print(f\"Accuracy with cross validation: {scores.mean():.2f} ± {scores.std():.2f}\")\n",
    "\n",
    "\n"
   ]
  },
  {
   "cell_type": "code",
   "execution_count": 5,
   "metadata": {},
   "outputs": [
    {
     "name": "stdout",
     "output_type": "stream",
     "text": [
      "Prediction for new data: [1 1 0 1]\n"
     ]
    },
    {
     "name": "stderr",
     "output_type": "stream",
     "text": [
      "C:\\Users\\Dynabook\\AppData\\Local\\Packages\\PythonSoftwareFoundation.Python.3.10_qbz5n2kfra8p0\\LocalCache\\local-packages\\Python310\\site-packages\\sklearn\\base.py:465: UserWarning: X does not have valid feature names, but RandomForestClassifier was fitted with feature names\n",
      "  warnings.warn(\n"
     ]
    }
   ],
   "source": [
    "# Diviser les données en ensembles d'entraînement et de test\n",
    "X_train, X_test, y_train, y_test = train_test_split(X, y, test_size=0.2, random_state=42)\n",
    "\n",
    "# Créer et entraîner le modèle\n",
    "model.fit(X_train, y_train)\n",
    "\n",
    "# Faire des prédictions\n",
    "y_pred = model.predict(X_test)\n",
    "\n",
    "# Calculer et afficher la précision\n",
    "accuracy = accuracy_score(y_test, y_pred)\n",
    "\n",
    "# Exemple de prédiction sur de nouvelles données\n",
    "new_data = [[1, 5, 720, 18, 28, 63], [2, 1, 580, 20, 32, 55], [2, 3, 420, 21, 31, 54], [2, 5, 720, 18, 28, 63]]  \n",
    "prediction = model.predict(new_data)\n",
    "print(\"Prediction for new data:\", prediction)"
   ]
  },
  {
   "cell_type": "code",
   "execution_count": null,
   "metadata": {},
   "outputs": [],
   "source": []
  }
 ],
 "metadata": {
  "kernelspec": {
   "display_name": "Python 3",
   "language": "python",
   "name": "python3"
  },
  "language_info": {
   "codemirror_mode": {
    "name": "ipython",
    "version": 3
   },
   "file_extension": ".py",
   "mimetype": "text/x-python",
   "name": "python",
   "nbconvert_exporter": "python",
   "pygments_lexer": "ipython3",
   "version": "3.10.11"
  }
 },
 "nbformat": 4,
 "nbformat_minor": 2
}
