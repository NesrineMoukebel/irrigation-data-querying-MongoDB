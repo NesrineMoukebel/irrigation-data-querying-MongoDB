{
 "cells": [
  {
   "cell_type": "code",
   "execution_count": 1,
   "metadata": {},
   "outputs": [
    {
     "name": "stdout",
     "output_type": "stream",
     "text": [
      "Importation to MongoDB completed.\n",
      "Exported MongoDB collection 'irrigation_data' to 'irrigation_data.json'.\n"
     ]
    }
   ],
   "source": [
    "import csv\n",
    "import json\n",
    "from pymongo import MongoClient\n",
    "\n",
    "# Function to import data from CSV to MongoDB\n",
    "def import_csv_to_mongodb(csv_file, mongodb_uri, database_name, collection_name):\n",
    "    # Connect to MongoDB\n",
    "    client = MongoClient(mongodb_uri)\n",
    "    db = client[database_name]\n",
    "    collection = db[collection_name]\n",
    "    \n",
    "    # Clear existing data in the collection\n",
    "    collection.delete_many({})\n",
    "    \n",
    "    # Read CSV file and insert rows into MongoDB\n",
    "    with open(csv_file, 'r', newline='', encoding='utf-8-sig') as csvfile:\n",
    "        reader = csv.DictReader(csvfile)\n",
    "        for row in reader:\n",
    "            # Convert numeric fields\n",
    "            row['CropType'] = int(row['CropType'])\n",
    "            row['CropDays'] = int(row['CropDays'])\n",
    "            row['Soil Moisture'] = int(row['Soil Moisture'])\n",
    "            row['Soil Temperature'] = int(row['Soil Temperature'])\n",
    "            row['Temperature'] = int(row['Temperature'])\n",
    "            row['Humidity'] = int(row['Humidity'])\n",
    "            row['Irrigation(Y/N)'] = int(row['Irrigation(Y/N)'])\n",
    "            \n",
    "            # Insert row into MongoDB\n",
    "            collection.insert_one(row)\n",
    "    \n",
    "    print(\"Importation to MongoDB completed.\")\n",
    "\n",
    "# Function to export MongoDB collection to JSON file\n",
    "def export_mongodb_to_json(mongodb_uri, database_name, collection_name, json_file):\n",
    "    # Connect to MongoDB\n",
    "    client = MongoClient(mongodb_uri)\n",
    "    db = client[database_name]\n",
    "    collection = db[collection_name]\n",
    "    \n",
    "    # Query MongoDB collection\n",
    "    documents = list(collection.find())\n",
    "    \n",
    "    # Export documents to JSON file\n",
    "    with open(json_file, 'w', encoding='utf-8') as f:\n",
    "        json.dump(documents, f, default=str, indent=4)\n",
    "    \n",
    "    print(f\"Exported MongoDB collection '{collection_name}' to '{json_file}'.\")\n",
    "\n",
    "if __name__ == \"__main__\":\n",
    "    # CSV file path\n",
    "    csv_file = 'irrigation_dataset.csv'\n",
    "    \n",
    "    # MongoDB connection URI\n",
    "    mongodb_uri = 'mongodb://localhost:27017/'\n",
    "    \n",
    "    # MongoDB database and collection names\n",
    "    database_name = 'agriculture'\n",
    "    collection_name = 'irrigation_data'\n",
    "    \n",
    "    # Import data from CSV to MongoDB\n",
    "    import_csv_to_mongodb(csv_file, mongodb_uri, database_name, collection_name)\n",
    "    \n",
    "    # Export MongoDB collection to JSON file\n",
    "    json_file = 'irrigation_data.json'\n",
    "    export_mongodb_to_json(mongodb_uri, database_name, collection_name, json_file)\n"
   ]
  },
  {
   "cell_type": "code",
   "execution_count": null,
   "metadata": {},
   "outputs": [],
   "source": []
  }
 ],
 "metadata": {
  "kernelspec": {
   "display_name": "Python 3",
   "language": "python",
   "name": "python3"
  },
  "language_info": {
   "codemirror_mode": {
    "name": "ipython",
    "version": 3
   },
   "file_extension": ".py",
   "mimetype": "text/x-python",
   "name": "python",
   "nbconvert_exporter": "python",
   "pygments_lexer": "ipython3",
   "version": "3.10.11"
  }
 },
 "nbformat": 4,
 "nbformat_minor": 2
}
